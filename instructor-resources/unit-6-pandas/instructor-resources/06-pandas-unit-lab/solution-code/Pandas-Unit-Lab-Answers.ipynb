{
 "cells": [
  {
   "cell_type": "markdown",
   "metadata": {},
   "source": [
    "## ![](https://ga-dash.s3.amazonaws.com/production/assets/logo-9f88ae6c9c3871690e33280fcf557f33.png) Pandas for EDA\n",
    "by [@josephofiowa](https://twitter.com/josephofiowa)\n",
    " \n",
    "<!---\n",
    "This assignment was developed by Joseph Nelson\n",
    "\n",
    "Questions? Comments?\n",
    "1. Log an issue to this repo to alert me of a problem.\n",
    "2. Suggest an edit yourself by forking this repo, making edits, and submitting a pull request with your changes back to our master branch.\n",
    "3. Hit me up on Slack @sonylnagale\n",
    "--->"
   ]
  },
  {
   "cell_type": "markdown",
   "metadata": {},
   "source": [
    "# Pandas Unit Lab\n",
    "\n",
    "**Woo!** We've made it to the end of our Pandas Unit. Let's put our skills to the test.\n",
    "\n",
    "We're going to explore data from the top movies according to IMDB. This is a guided question-and-response lab where some areas are specific asks and others are open ended for you to explore.\n",
    "\n",
    "In this lab, we will:\n",
    "- Use `movie_app.py` to obtain relevant moving rating data\n",
    "- Leverage Pandas to conduct exploratory data analysis, including:\n",
    "    - Assess data integrity\n",
    "    - Create exploratory visualizations\n",
    "    - Produce insights on top actors/actresses across films\n",
    "    \n",
    "Let's get going!"
   ]
  },
  {
   "cell_type": "code",
   "execution_count": null,
   "metadata": {},
   "outputs": [],
   "source": []
  },
  {
   "cell_type": "markdown",
   "metadata": {},
   "source": [
    "## The Dataset\n",
    "\n",
    "We'll work with a dataset on the top [100 movies](https://www.imdb.com/search/title?count=100&groups=top_1000&sort=user_rating), as rated by IMDB.\n",
    "\n",
    "\n",
    "Specifically, we have a CSV that contains:\n",
    "- IMDB star rating\n",
    "- Movie title\n",
    "- Year\n",
    "- Content rating\n",
    "- Genre\n",
    "- Duration\n",
    "- Gross\n",
    "\n",
    "_[Details available at the above link]_\n"
   ]
  },
  {
   "cell_type": "markdown",
   "metadata": {},
   "source": [
    "### Import our necessary libraries"
   ]
  },
  {
   "cell_type": "code",
   "execution_count": 1,
   "metadata": {},
   "outputs": [],
   "source": [
    "import pandas as pd\n",
    "import numpy as np\n",
    "import matplotlib as plt\n",
    "%matplotlib inline"
   ]
  },
  {
   "cell_type": "markdown",
   "metadata": {},
   "source": [
    "### Read in the dataset\n",
    "\n",
    "First, read in the dataset, called `imdb_100.csv` into a DataFrame called \"movies.\""
   ]
  },
  {
   "cell_type": "code",
   "execution_count": 2,
   "metadata": {},
   "outputs": [],
   "source": [
    "movies = pd.read_csv('./data/imdb_100.csv')"
   ]
  },
  {
   "cell_type": "code",
   "execution_count": 3,
   "metadata": {},
   "outputs": [
    {
     "data": {
      "text/plain": [
       "(100, 7)"
      ]
     },
     "execution_count": 3,
     "metadata": {},
     "output_type": "execute_result"
    }
   ],
   "source": [
    "movies.shape"
   ]
  },
  {
   "cell_type": "code",
   "execution_count": null,
   "metadata": {},
   "outputs": [],
   "source": []
  },
  {
   "cell_type": "markdown",
   "metadata": {},
   "source": [
    "## Check the dataset basics\n",
    "\n",
    "Let's first explore our dataset to verify we have what we expect."
   ]
  },
  {
   "cell_type": "markdown",
   "metadata": {},
   "source": [
    "Print the first five rows."
   ]
  },
  {
   "cell_type": "code",
   "execution_count": 4,
   "metadata": {},
   "outputs": [
    {
     "data": {
      "text/html": [
       "<div>\n",
       "<style scoped>\n",
       "    .dataframe tbody tr th:only-of-type {\n",
       "        vertical-align: middle;\n",
       "    }\n",
       "\n",
       "    .dataframe tbody tr th {\n",
       "        vertical-align: top;\n",
       "    }\n",
       "\n",
       "    .dataframe thead th {\n",
       "        text-align: right;\n",
       "    }\n",
       "</style>\n",
       "<table border=\"1\" class=\"dataframe\">\n",
       "  <thead>\n",
       "    <tr style=\"text-align: right;\">\n",
       "      <th></th>\n",
       "      <th>star_rating</th>\n",
       "      <th>title</th>\n",
       "      <th>year</th>\n",
       "      <th>content_rating</th>\n",
       "      <th>genre</th>\n",
       "      <th>duration</th>\n",
       "      <th>gross</th>\n",
       "    </tr>\n",
       "  </thead>\n",
       "  <tbody>\n",
       "    <tr>\n",
       "      <th>0</th>\n",
       "      <td>9.3</td>\n",
       "      <td>The Shawshank Redemption</td>\n",
       "      <td>1994</td>\n",
       "      <td>R</td>\n",
       "      <td>Drama</td>\n",
       "      <td>142</td>\n",
       "      <td>1963330</td>\n",
       "    </tr>\n",
       "    <tr>\n",
       "      <th>1</th>\n",
       "      <td>9.2</td>\n",
       "      <td>The Godfather</td>\n",
       "      <td>1972</td>\n",
       "      <td>R</td>\n",
       "      <td>Crime</td>\n",
       "      <td>175</td>\n",
       "      <td>28341469</td>\n",
       "    </tr>\n",
       "    <tr>\n",
       "      <th>2</th>\n",
       "      <td>9.0</td>\n",
       "      <td>The Dark Knight</td>\n",
       "      <td>2008</td>\n",
       "      <td>PG-13</td>\n",
       "      <td>Action</td>\n",
       "      <td>152</td>\n",
       "      <td>1344258</td>\n",
       "    </tr>\n",
       "    <tr>\n",
       "      <th>3</th>\n",
       "      <td>9.0</td>\n",
       "      <td>The Godfather: Part II</td>\n",
       "      <td>1974</td>\n",
       "      <td>R</td>\n",
       "      <td>Crime</td>\n",
       "      <td>202</td>\n",
       "      <td>134966411</td>\n",
       "    </tr>\n",
       "    <tr>\n",
       "      <th>4</th>\n",
       "      <td>8.9</td>\n",
       "      <td>Pulp Fiction</td>\n",
       "      <td>1994</td>\n",
       "      <td>R</td>\n",
       "      <td>Crime</td>\n",
       "      <td>154</td>\n",
       "      <td>1935047</td>\n",
       "    </tr>\n",
       "  </tbody>\n",
       "</table>\n",
       "</div>"
      ],
      "text/plain": [
       "   star_rating                     title  year content_rating  \\\n",
       "0          9.3  The Shawshank Redemption  1994              R   \n",
       "1          9.2             The Godfather  1972              R   \n",
       "2          9.0           The Dark Knight  2008          PG-13   \n",
       "3          9.0    The Godfather: Part II  1974              R   \n",
       "4          8.9              Pulp Fiction  1994              R   \n",
       "\n",
       "               genre  duration      gross  \n",
       "0  Drama                   142    1963330  \n",
       "1              Crime       175   28341469  \n",
       "2             Action       152    1344258  \n",
       "3              Crime       202  134966411  \n",
       "4              Crime       154    1935047  "
      ]
     },
     "execution_count": 4,
     "metadata": {},
     "output_type": "execute_result"
    }
   ],
   "source": [
    "movies.head()"
   ]
  },
  {
   "cell_type": "markdown",
   "metadata": {},
   "source": [
    "How many rows and columns are in the datset?"
   ]
  },
  {
   "cell_type": "code",
   "execution_count": 5,
   "metadata": {},
   "outputs": [
    {
     "data": {
      "text/plain": [
       "(100, 7)"
      ]
     },
     "execution_count": 5,
     "metadata": {},
     "output_type": "execute_result"
    }
   ],
   "source": [
    "movies.shape"
   ]
  },
  {
   "cell_type": "markdown",
   "metadata": {},
   "source": [
    "What are the column names?"
   ]
  },
  {
   "cell_type": "code",
   "execution_count": 6,
   "metadata": {},
   "outputs": [
    {
     "data": {
      "text/plain": [
       "Index(['star_rating', 'title', 'year', 'content_rating', 'genre', 'duration',\n",
       "       'gross'],\n",
       "      dtype='object')"
      ]
     },
     "execution_count": 6,
     "metadata": {},
     "output_type": "execute_result"
    }
   ],
   "source": [
    "movies.columns"
   ]
  },
  {
   "cell_type": "markdown",
   "metadata": {},
   "source": [
    "How many unique genres are there?"
   ]
  },
  {
   "cell_type": "code",
   "execution_count": 7,
   "metadata": {},
   "outputs": [
    {
     "data": {
      "text/plain": [
       "12"
      ]
     },
     "execution_count": 7,
     "metadata": {},
     "output_type": "execute_result"
    }
   ],
   "source": [
    "movies.genre.nunique()"
   ]
  },
  {
   "cell_type": "markdown",
   "metadata": {},
   "source": [
    "How many movies are there per genre?"
   ]
  },
  {
   "cell_type": "code",
   "execution_count": 8,
   "metadata": {},
   "outputs": [
    {
     "data": {
      "text/plain": [
       "Crime                  20\n",
       "Drama                  17\n",
       "Action                 17\n",
       "Animation              10\n",
       "Adventure               9\n",
       "Drama                   8\n",
       "Comedy                  6\n",
       "Biography               5\n",
       "Western                 3\n",
       "Horror                  2\n",
       "Mystery                 2\n",
       "Comedy                  1\n",
       "Name: genre, dtype: int64"
      ]
     },
     "execution_count": 8,
     "metadata": {},
     "output_type": "execute_result"
    }
   ],
   "source": [
    "movies.genre.value_counts()"
   ]
  },
  {
   "cell_type": "markdown",
   "metadata": {},
   "source": [
    "## Obtain more data (with an API call)!\n",
    "\n",
    "Let's take advantage of our `movie_app.py` program to obtain data from OMDBAPi on movie ratings. This will enable us to answer the question: **How do Rotten Tomato scores compare to IMDB ratings?** Where do Rotten Tomato critics most disagree with IMDB reviews?"
   ]
  },
  {
   "cell_type": "markdown",
   "metadata": {},
   "source": [
    "We're going to write a function that allows us to obtain the Rotten Tomato reviews on the top 100 IMDB movies. We will store these ratings in a new column in our `movies` DataFrame."
   ]
  },
  {
   "cell_type": "markdown",
   "metadata": {},
   "source": [
    "First, we need to load `movie_app.py` into a Jupyter Notebook cell."
   ]
  },
  {
   "cell_type": "code",
   "execution_count": 9,
   "metadata": {},
   "outputs": [],
   "source": [
    "# %load movie_app.py\n",
    "import requests\n",
    "\n",
    "class OMDBError(Exception):\n",
    "    \"\"\"\n",
    "    OMDBError represents an error returned by the OMDB API.\n",
    "    \"\"\"\n",
    "    pass\n",
    "\n",
    "class Movie(object):\n",
    "    \"\"\"\n",
    "    Movie objects contain all OMDB information about a particular movie,\n",
    "    including the title and rating.\n",
    "    \"\"\"\n",
    "\n",
    "    def __init__(self, movie_data):\n",
    "\n",
    "        # Store the raw data from OMDB in this object so that we can use the\n",
    "        # data in the getter functions.\n",
    "        self.omdb_data = movie_data\n",
    "\n",
    "    def get_movie_title(self):\n",
    "        \"\"\"\n",
    "        get_movie_title is a getter function that returns the movie title.\n",
    "        \"\"\"\n",
    "\n",
    "        # Return the title key from the OMDB data.\n",
    "        return self.omdb_data[\"Title\"]\n",
    "\n",
    "    def get_movie_rating(self, source=\"Rotten Tomatoes\"):\n",
    "        \"\"\"\n",
    "        get_movie_rating is a getter function that returns the Rotten Tomatoes rating.\n",
    "        \"\"\"\n",
    "\n",
    "        # There can be multiple ratings for each movie, so they are stored as a\n",
    "        # list of ratings, each with a source and a rating. By default, we are\n",
    "        # only interested in Rotten Tomatoes ratings, so we loop through each\n",
    "        # rating and return it if the source is Rotten Tomatoes.\n",
    "        for ratings in self.omdb_data[\"Ratings\"]:\n",
    "            if ratings[\"Source\"] == source:\n",
    "                return ratings[\"Value\"]\n",
    "\n",
    "        # If no matching rating is found, we will raise an error.\n",
    "        return \"-  Wait - Rating for source {0} was not found!\".format(source))\n",
    "\n",
    "class OMDB(object):\n",
    "    \"\"\"\n",
    "    OMDB objects represent clients to the OMDB API. It has helper methods for\n",
    "    performing functions on the API.\n",
    "    \"\"\"\n",
    "    def __init__(self, apikey):\n",
    "        # Store the API key so it may be used later to build the authenticated URL.\n",
    "        self.apikey = apikey\n",
    "        self.url = \"http://www.omdbapi.com/?\"\n",
    "\n",
    "    def call_api(self, **kwargs):\n",
    "        \"\"\"\n",
    "        call_api uses the provided parameters to create a URL to the OMDB API,\n",
    "        call the API, parse the results, and return the parsed JSON data.\n",
    "\n",
    "        If the API returns an error, the error is raised as an exception.\n",
    "        \"\"\"\n",
    "\n",
    "        # Add api key to dictionary of parameters to send to OMDB.\n",
    "        kwargs[\"apikey\"] = self.apikey\n",
    "\n",
    "        # Call the API by requesting the url. Use json() to decode the raw JSON data.\n",
    "        response_data = requests.get(self.url, kwargs).json()\n",
    "\n",
    "        # Check for an error and throw an exception if needed\n",
    "        if \"Error\" in response_data:\n",
    "            raise OMDBError(response_data[\"Error\"])\n",
    "\n",
    "        # Return the decoded data\n",
    "        return response_data\n",
    "\n",
    "    def get_movie(self, movie_query):\n",
    "        \"\"\"\n",
    "        Get a movie object containing all the data for a single movie. Returns\n",
    "        a single movie object.\n",
    "        \"\"\"\n",
    "        # Call the API, passing the movie_query as \"t\" (by title).\n",
    "        movie_data = self.call_api(t=movie_query)\n",
    "    \n",
    "        # Create a Movie with the raw results from the API call.\n",
    "        return Movie(movie_data)\n",
    "\n",
    "    def search(self, movie_query):\n",
    "        \"\"\"\n",
    "        Search for movies based on keywords. Returns list of dictionaries.\n",
    "        \"\"\"\n",
    "        # Call the API, passing the movie_query as \"s\" (by search).\n",
    "        movie_dictionaries = self.call_api(s=movie_query)\n",
    "\n",
    "        # Return the list of movie dictionaries.\n",
    "        return movie_dictionaries[\"Search\"]\n",
    "\n",
    "def get_apikey():\n",
    "    \"\"\"\n",
    "    Read API key from file on disk.\n",
    "    \"\"\"\n",
    "\n",
    "    # Open file in read mode (r).\n",
    "    with open(\"omdb-api-key.txt\", \"r\") as file:\n",
    "\n",
    "        # Read the file into a variable (key).\n",
    "        key = file.read()\n",
    "\n",
    "        # Strip any whitespace characters such as a newline that may be present\n",
    "        # in the file.\n",
    "        key = key.strip()\n",
    "\n",
    "        # Return the key\n",
    "        return key\n",
    "\n",
    "def list_search_results(movie_to_look_up):\n",
    "    \"\"\"\n",
    "    Prompt for search term and print list of matching movies.\n",
    "    \"\"\"\n",
    "\n",
    "    # Read the API key from disk.\n",
    "    apikey = get_apikey()\n",
    "\n",
    "    # Create OMDB client with provided API key.\n",
    "    omdb = OMDB(apikey)\n",
    "\n",
    "    # Get results from OMDB API. If OMDB error occurs, print the error message and exit.\n",
    "    try:\n",
    "        matching_movie_list = omdb.search(movie_to_look_up)\n",
    "    except OMDBError as err:\n",
    "        print(\"OMDB Error: {0}\".format(err))\n",
    "        return\n",
    "\n",
    "    # Extract titles from search result list with list comprehension (each\n",
    "    # result is a dictionary).\n",
    "    movie_titles = [each_movie[\"Title\"] for each_movie in matching_movie_list]\n",
    "\n",
    "    # Loop through list of titles and print them (indented with 4 spaces).\n",
    "    for title in movie_titles:\n",
    "        print(\"    \" + title)\n",
    "\n",
    "def return_single_movie_object(movie_to_look_up):\n",
    "    \"\"\"\n",
    "    Prompt for movie title and print Rotten Tomatoes rating.\n",
    "    \"\"\"\n",
    "    \n",
    "    # Read the API key from disk.\n",
    "    apikey = get_apikey()\n",
    "\n",
    "    # Create OMDB client with provided API key.\n",
    "    omdb = OMDB(apikey)\n",
    "\n",
    "    # Get Movie object. If OMDB error occurs, print the error message and exit.\n",
    "    try:\n",
    "        my_movie_object = omdb.get_movie(movie_to_look_up)\n",
    "        return my_movie_object\n",
    "    except OMDBError as err:\n",
    "        print(\"OMDB Error: {0}\".format(err))\n",
    "        return\n",
    "\n",
    "def print_single_movie_rating(movie_query):\n",
    "\n",
    "    my_movie = return_single_movie_object(movie_query)\n",
    "\n",
    "    # Print the rating. Note that we have to escape the quotes around the movie\n",
    "    # title because those quotes are inside a string that also uses quotes.\n",
    "    print(\"The rating for \\\"{0}\\\" is {1}.\".format(my_movie.get_movie_title(), my_movie.get_movie_rating()))\n",
    "    \n",
    "\n",
    "def return_single_movie_rating(movie_query):\n",
    "    my_movie = return_single_movie_object(movie_query)\n",
    "    # Return the rating. Note we are only returning the percentage.\n",
    "    return(my_movie.get_movie_rating())\n",
    "    \n",
    "    \n",
    "def print_all_ratings(movie_list):\n",
    "    for movie in movie_list: \n",
    "        movie_object = return_single_movie_object(movie)\n",
    "        print(\"The movie\", movie_object.get_movie_title(), \"has a rating of\", movie_object.get_movie_rating())\n",
    "\n",
    "def main():\n",
    "    \"\"\"\n",
    "    Main is the entrypoint into the program, and it calls into the search or\n",
    "    ratings functions depending on what the user decides to do.\n",
    "    \"\"\"\n",
    "\n",
    "    # Empty (for now!)\n",
    "\n",
    "if __name__ == \"__main__\":\n",
    "    main()"
   ]
  },
  {
   "cell_type": "markdown",
   "metadata": {},
   "source": [
    "Notice a few changes!\n",
    "\n",
    "We've provided you with a new function, `return_single_movie_rating(movie_query)`, which is very similar to the  `print_single_movie_rating(movie_query)` function you've written. The key difference is our new function *returns* the Rotten Tomato value so we can store it.\n",
    "\n"
   ]
  },
  {
   "cell_type": "markdown",
   "metadata": {},
   "source": [
    "Here's the new function:\n",
    "\n",
    "```python\n",
    "def return_single_movie_rating(movie_query):\n",
    "    my_movie = return_single_movie_object(movie_query)\n",
    "    # Return the rating. Note we are only returning the percentage.\n",
    "    return(my_movie.get_movie_rating())\n",
    "```"
   ]
  },
  {
   "cell_type": "markdown",
   "metadata": {},
   "source": [
    "A bit ununituitive note: you need to re-run the above cell after loading the script. Loading the script does not also instantiate the script. So, we must do so by running the cell."
   ]
  },
  {
   "cell_type": "markdown",
   "metadata": {},
   "source": [
    "Second, let's test out this new function by querying a single movie"
   ]
  },
  {
   "cell_type": "code",
   "execution_count": 10,
   "metadata": {},
   "outputs": [
    {
     "data": {
      "text/plain": [
       "'24%'"
      ]
     },
     "execution_count": 10,
     "metadata": {},
     "output_type": "execute_result"
    }
   ],
   "source": [
    "# let's run the function on one of the world's best movies\n",
    "movie_name = \"Flubber\"\n",
    "return_single_movie_rating(movie_name)"
   ]
  },
  {
   "cell_type": "markdown",
   "metadata": {},
   "source": [
    "Great! We have a function that returns the Rotten Tomatoes score for a given movie. \n",
    "\n",
    "Now, we need to pass the movies from our DataFrame to this function one-by-one, and store the result of this function in a list."
   ]
  },
  {
   "cell_type": "markdown",
   "metadata": {},
   "source": [
    "So, third, write a loop that prints out each movie title from your dataframe."
   ]
  },
  {
   "cell_type": "code",
   "execution_count": 11,
   "metadata": {},
   "outputs": [
    {
     "name": "stdout",
     "output_type": "stream",
     "text": [
      "The Shawshank Redemption\n",
      "The Godfather\n",
      "The Dark Knight\n",
      "The Godfather: Part II\n",
      "Pulp Fiction\n",
      "Schindler's List\n",
      "The Lord of the Rings: The Return of the King\n",
      "The Good, the Bad and the Ugly\n",
      "12 Angry Men\n",
      "Avengers: Infinity War\n",
      "The Lord of the Rings: The Fellowship of the Ring\n",
      "Inception\n",
      "Forrest Gump\n",
      "Fight Club\n",
      "Star Wars: Episode V - The Empire Strikes Back\n",
      "The Matrix\n",
      "Goodfellas\n",
      "The Lord of the Rings: The Two Towers\n",
      "One Flew Over the Cuckoo's Nest\n",
      "Seven Samurai\n",
      "Interstellar\n",
      "The Silence of the Lambs\n",
      "Lon: The Professional\n",
      "Se7en\n",
      "Star Wars: Episode IV - A New Hope\n",
      "Saving Private Ryan\n",
      "Spirited Away\n",
      "The Usual Suspects\n",
      "City of God\n",
      "Life Is Beautiful\n",
      "It's a Wonderful Life\n",
      "City Lights\n",
      "Coco\n",
      "The Departed\n",
      "The Lion King\n",
      "Back to the Future\n",
      "Gladiator\n",
      "Whiplash\n",
      "The Prestige\n",
      "Raiders of the Lost Ark\n",
      "Alien\n",
      "Apocalypse Now\n",
      "The Green Mile\n",
      "Psycho\n",
      "Terminator 2\n",
      "Memento\n",
      "American History X\n",
      "The Intouchables\n",
      "Once Upon a Time in the West\n",
      "The Pianist\n",
      "Casablanca\n",
      "Rear Window\n",
      "Grave of the Fireflies\n",
      "Cinema Paradiso\n",
      "Dangal\n",
      "Sunset Blvd.\n",
      "The Great Dictator\n",
      "Modern Times\n",
      "Babam ve Oglum\n",
      "Django Unchained\n",
      "The Shining\n",
      "The Dark Knight Rises\n",
      "Braveheart\n",
      "American Beauty\n",
      "Kimi no na wa.\n",
      "Oldeuboi\n",
      "Aliens\n",
      "WALLáE\n",
      "Once Upon a Time in America\n",
      "The Lives of Others\n",
      "Dr. Strangelove or: How I Learned to Stop Worrying and Love the Bomb\n",
      "3 Idiots\n",
      "Princess Mononoke\n",
      "Citizen Kane\n",
      "Das Boot\n",
      "Taare Zameen Par\n",
      "M\n",
      "Witness for the Prosecution\n",
      "Paths of Glory\n",
      "Baahubali 2: The Conclusion\n",
      "Inglourious Basterds\n",
      "2001: A Space Odyssey\n",
      "Toy Story\n",
      "Taxi Driver\n",
      "A Clockwork Orange\n",
      "Toy Story 3\n",
      "Requiem for a Dream\n",
      "Batman Begins\n",
      "Scarface\n",
      "Up\n",
      "Full Metal Jacket\n",
      "Good Will Hunting\n",
      "Eternal Sunshine of the Spotless Mind\n",
      "Snatch\n",
      "L.A. Confidential\n",
      "Reservoir Dogs\n",
      "Star Wars: Episode VI - Return of the Jedi\n",
      "Indiana Jones and the Last Crusade\n",
      "For a Few Dollars More\n",
      "The Hunt\n"
     ]
    }
   ],
   "source": [
    "for name in movies.title:\n",
    "    print(name)"
   ]
  },
  {
   "cell_type": "markdown",
   "metadata": {},
   "source": [
    "Nice! So far, we are able to:\n",
    "\n",
    "- Pass a movie name to a function (`return_single_movie_rating()`) to obtain a rating value\n",
    "- Loop through all the titles in our `movies` DataFrame\n",
    "\n",
    "\n",
    "Fourth: it's time to combine these steps, and store those ratings in a list!"
   ]
  },
  {
   "cell_type": "code",
   "execution_count": 12,
   "metadata": {},
   "outputs": [],
   "source": [
    "# declare empty list to hold our ratings\n",
    "rotten_ratings = list()"
   ]
  },
  {
   "cell_type": "code",
   "execution_count": 13,
   "metadata": {},
   "outputs": [
    {
     "name": "stdout",
     "output_type": "stream",
     "text": [
      "OMDB Error: Movie not found!\n",
      "OMDB Error: Movie not found!\n",
      "OMDB Error: Movie not found!\n",
      "OMDB Error: Movie not found!\n",
      "OMDB Error: Movie not found!\n"
     ]
    }
   ],
   "source": [
    "# loop through each movie in the DataFrame, and pass that name to our function\n",
    "# store the result of that function, using append()` in our rotten_ratings list\n",
    "for name in movies.title:\n",
    "    \n",
    "    # try to find the Rotten Tomato rating\n",
    "    try:\n",
    "        rotten_ratings.append(return_single_movie_rating(name))\n",
    "        \n",
    "    # append a null if not found\n",
    "    except:\n",
    "        rotten_ratings.append(np.nan)"
   ]
  },
  {
   "cell_type": "markdown",
   "metadata": {},
   "source": [
    "**Great work!**\n",
    "\n",
    "Fifth, and certainly not least, let's create a column to store that new list of data!"
   ]
  },
  {
   "cell_type": "code",
   "execution_count": 14,
   "metadata": {},
   "outputs": [],
   "source": [
    "movies['rotten_rating'] = rotten_ratings"
   ]
  },
  {
   "cell_type": "markdown",
   "metadata": {},
   "source": [
    "## Checking the basics [continued] and cleaning\n",
    "\n",
    "Now that we have a new dataset, let's keep exploring."
   ]
  },
  {
   "cell_type": "markdown",
   "metadata": {},
   "source": [
    "Print the first five rows again, just to verify everything is looking ok."
   ]
  },
  {
   "cell_type": "code",
   "execution_count": 15,
   "metadata": {},
   "outputs": [
    {
     "data": {
      "text/html": [
       "<div>\n",
       "<style scoped>\n",
       "    .dataframe tbody tr th:only-of-type {\n",
       "        vertical-align: middle;\n",
       "    }\n",
       "\n",
       "    .dataframe tbody tr th {\n",
       "        vertical-align: top;\n",
       "    }\n",
       "\n",
       "    .dataframe thead th {\n",
       "        text-align: right;\n",
       "    }\n",
       "</style>\n",
       "<table border=\"1\" class=\"dataframe\">\n",
       "  <thead>\n",
       "    <tr style=\"text-align: right;\">\n",
       "      <th></th>\n",
       "      <th>star_rating</th>\n",
       "      <th>title</th>\n",
       "      <th>year</th>\n",
       "      <th>content_rating</th>\n",
       "      <th>genre</th>\n",
       "      <th>duration</th>\n",
       "      <th>gross</th>\n",
       "      <th>rotten_rating</th>\n",
       "    </tr>\n",
       "  </thead>\n",
       "  <tbody>\n",
       "    <tr>\n",
       "      <th>0</th>\n",
       "      <td>9.3</td>\n",
       "      <td>The Shawshank Redemption</td>\n",
       "      <td>1994</td>\n",
       "      <td>R</td>\n",
       "      <td>Drama</td>\n",
       "      <td>142</td>\n",
       "      <td>1963330</td>\n",
       "      <td>91%</td>\n",
       "    </tr>\n",
       "    <tr>\n",
       "      <th>1</th>\n",
       "      <td>9.2</td>\n",
       "      <td>The Godfather</td>\n",
       "      <td>1972</td>\n",
       "      <td>R</td>\n",
       "      <td>Crime</td>\n",
       "      <td>175</td>\n",
       "      <td>28341469</td>\n",
       "      <td>98%</td>\n",
       "    </tr>\n",
       "    <tr>\n",
       "      <th>2</th>\n",
       "      <td>9.0</td>\n",
       "      <td>The Dark Knight</td>\n",
       "      <td>2008</td>\n",
       "      <td>PG-13</td>\n",
       "      <td>Action</td>\n",
       "      <td>152</td>\n",
       "      <td>1344258</td>\n",
       "      <td>94%</td>\n",
       "    </tr>\n",
       "    <tr>\n",
       "      <th>3</th>\n",
       "      <td>9.0</td>\n",
       "      <td>The Godfather: Part II</td>\n",
       "      <td>1974</td>\n",
       "      <td>R</td>\n",
       "      <td>Crime</td>\n",
       "      <td>202</td>\n",
       "      <td>134966411</td>\n",
       "      <td>97%</td>\n",
       "    </tr>\n",
       "    <tr>\n",
       "      <th>4</th>\n",
       "      <td>8.9</td>\n",
       "      <td>Pulp Fiction</td>\n",
       "      <td>1994</td>\n",
       "      <td>R</td>\n",
       "      <td>Crime</td>\n",
       "      <td>154</td>\n",
       "      <td>1935047</td>\n",
       "      <td>94%</td>\n",
       "    </tr>\n",
       "  </tbody>\n",
       "</table>\n",
       "</div>"
      ],
      "text/plain": [
       "   star_rating                     title  year content_rating  \\\n",
       "0          9.3  The Shawshank Redemption  1994              R   \n",
       "1          9.2             The Godfather  1972              R   \n",
       "2          9.0           The Dark Knight  2008          PG-13   \n",
       "3          9.0    The Godfather: Part II  1974              R   \n",
       "4          8.9              Pulp Fiction  1994              R   \n",
       "\n",
       "               genre  duration      gross rotten_rating  \n",
       "0  Drama                   142    1963330           91%  \n",
       "1              Crime       175   28341469           98%  \n",
       "2             Action       152    1344258           94%  \n",
       "3              Crime       202  134966411           97%  \n",
       "4              Crime       154    1935047           94%  "
      ]
     },
     "execution_count": 15,
     "metadata": {},
     "output_type": "execute_result"
    }
   ],
   "source": [
    "movies.head()"
   ]
  },
  {
   "cell_type": "markdown",
   "metadata": {},
   "source": [
    "Check for null values in all of your columns."
   ]
  },
  {
   "cell_type": "code",
   "execution_count": 16,
   "metadata": {},
   "outputs": [
    {
     "data": {
      "text/plain": [
       "star_rating       0\n",
       "title             0\n",
       "year              0\n",
       "content_rating    0\n",
       "genre             0\n",
       "duration          0\n",
       "gross             0\n",
       "rotten_rating     7\n",
       "dtype: int64"
      ]
     },
     "execution_count": 16,
     "metadata": {},
     "output_type": "execute_result"
    }
   ],
   "source": [
    "movies.isnull().sum()"
   ]
  },
  {
   "cell_type": "markdown",
   "metadata": {},
   "source": [
    "Check our datatypes. Notice anything potentially problematic?"
   ]
  },
  {
   "cell_type": "code",
   "execution_count": 17,
   "metadata": {},
   "outputs": [
    {
     "data": {
      "text/plain": [
       "star_rating       float64\n",
       "title              object\n",
       "year                int64\n",
       "content_rating     object\n",
       "genre              object\n",
       "duration            int64\n",
       "gross               int64\n",
       "rotten_rating      object\n",
       "dtype: object"
      ]
     },
     "execution_count": 17,
     "metadata": {},
     "output_type": "execute_result"
    }
   ],
   "source": [
    "movies.dtypes"
   ]
  },
  {
   "cell_type": "markdown",
   "metadata": {},
   "source": [
    "Because `rotten_rating` contains a % sign, the datatype is an object. We need to clean this up!"
   ]
  },
  {
   "cell_type": "markdown",
   "metadata": {},
   "source": [
    "We need to strip the \"%\" sign from every entry in the `rotten_ratings` column. This is a grea opportunity to practice apply functions!"
   ]
  },
  {
   "cell_type": "markdown",
   "metadata": {},
   "source": [
    "First, we'll grab a single entry from the relevant column in our DataFrame."
   ]
  },
  {
   "cell_type": "code",
   "execution_count": 18,
   "metadata": {},
   "outputs": [
    {
     "data": {
      "text/plain": [
       "'91%'"
      ]
     },
     "execution_count": 18,
     "metadata": {},
     "output_type": "execute_result"
    }
   ],
   "source": [
    "movies.rotten_rating[0]"
   ]
  },
  {
   "cell_type": "markdown",
   "metadata": {},
   "source": [
    "Write code that strips a string of its % sign. "
   ]
  },
  {
   "cell_type": "code",
   "execution_count": 19,
   "metadata": {},
   "outputs": [
    {
     "data": {
      "text/plain": [
       "'91'"
      ]
     },
     "execution_count": 19,
     "metadata": {},
     "output_type": "execute_result"
    }
   ],
   "source": [
    "movies.rotten_rating[0].strip('%')"
   ]
  },
  {
   "cell_type": "markdown",
   "metadata": {},
   "source": [
    "Now, turn the above code into a function that accepts any given text (a single string **not** a list of strings) with a % sign, and returns that text formatted as an integer and without the % sign."
   ]
  },
  {
   "cell_type": "code",
   "execution_count": 20,
   "metadata": {},
   "outputs": [],
   "source": [
    "def clean_percents(string_with_percent):\n",
    "    try:\n",
    "        # if the value can be converted to a string, we will strip the '%'\n",
    "        # convert the result of that to an integer then return\n",
    "        return int(str(string_with_percent).strip('%'))\n",
    "    except:\n",
    "        # otherwise, we'll return the same null value we had\n",
    "        return np.nan"
   ]
  },
  {
   "cell_type": "markdown",
   "metadata": {},
   "source": [
    "**Test** our function on a single value."
   ]
  },
  {
   "cell_type": "code",
   "execution_count": 21,
   "metadata": {},
   "outputs": [
    {
     "data": {
      "text/plain": [
       "91"
      ]
     },
     "execution_count": 21,
     "metadata": {},
     "output_type": "execute_result"
    }
   ],
   "source": [
    "clean_percents(movies.rotten_rating[0])"
   ]
  },
  {
   "cell_type": "markdown",
   "metadata": {},
   "source": [
    "Now, if we get the desired result, we can *apply* this function to the whole column of interest. We will store the result on top of the old column entries."
   ]
  },
  {
   "cell_type": "code",
   "execution_count": 22,
   "metadata": {},
   "outputs": [],
   "source": [
    "movies.rotten_rating = movies.rotten_rating.apply(clean_percents)"
   ]
  },
  {
   "cell_type": "markdown",
   "metadata": {},
   "source": [
    "Did it work?"
   ]
  },
  {
   "cell_type": "code",
   "execution_count": 23,
   "metadata": {},
   "outputs": [
    {
     "data": {
      "text/plain": [
       "star_rating       float64\n",
       "title              object\n",
       "year                int64\n",
       "content_rating     object\n",
       "genre              object\n",
       "duration            int64\n",
       "gross               int64\n",
       "rotten_rating     float64\n",
       "dtype: object"
      ]
     },
     "execution_count": 23,
     "metadata": {},
     "output_type": "execute_result"
    }
   ],
   "source": [
    "movies.dtypes"
   ]
  },
  {
   "cell_type": "markdown",
   "metadata": {},
   "source": [
    "Yes!"
   ]
  },
  {
   "cell_type": "code",
   "execution_count": null,
   "metadata": {},
   "outputs": [],
   "source": []
  },
  {
   "cell_type": "markdown",
   "metadata": {},
   "source": [
    "## Exploratory data analysis\n",
    "\n",
    "Let's transition to asking and answering some questions with our data."
   ]
  },
  {
   "cell_type": "markdown",
   "metadata": {},
   "source": [
    "What are the top five R-Rated movies?\n",
    "\n",
    "*hint: Boolean filters needed! Then sorting!*"
   ]
  },
  {
   "cell_type": "code",
   "execution_count": 24,
   "metadata": {},
   "outputs": [
    {
     "data": {
      "text/html": [
       "<div>\n",
       "<style scoped>\n",
       "    .dataframe tbody tr th:only-of-type {\n",
       "        vertical-align: middle;\n",
       "    }\n",
       "\n",
       "    .dataframe tbody tr th {\n",
       "        vertical-align: top;\n",
       "    }\n",
       "\n",
       "    .dataframe thead th {\n",
       "        text-align: right;\n",
       "    }\n",
       "</style>\n",
       "<table border=\"1\" class=\"dataframe\">\n",
       "  <thead>\n",
       "    <tr style=\"text-align: right;\">\n",
       "      <th></th>\n",
       "      <th>star_rating</th>\n",
       "      <th>title</th>\n",
       "      <th>year</th>\n",
       "      <th>content_rating</th>\n",
       "      <th>genre</th>\n",
       "      <th>duration</th>\n",
       "      <th>gross</th>\n",
       "      <th>rotten_rating</th>\n",
       "    </tr>\n",
       "  </thead>\n",
       "  <tbody>\n",
       "    <tr>\n",
       "      <th>0</th>\n",
       "      <td>9.3</td>\n",
       "      <td>The Shawshank Redemption</td>\n",
       "      <td>1994</td>\n",
       "      <td>R</td>\n",
       "      <td>Drama</td>\n",
       "      <td>142</td>\n",
       "      <td>1963330</td>\n",
       "      <td>91.0</td>\n",
       "    </tr>\n",
       "    <tr>\n",
       "      <th>1</th>\n",
       "      <td>9.2</td>\n",
       "      <td>The Godfather</td>\n",
       "      <td>1972</td>\n",
       "      <td>R</td>\n",
       "      <td>Crime</td>\n",
       "      <td>175</td>\n",
       "      <td>28341469</td>\n",
       "      <td>98.0</td>\n",
       "    </tr>\n",
       "    <tr>\n",
       "      <th>3</th>\n",
       "      <td>9.0</td>\n",
       "      <td>The Godfather: Part II</td>\n",
       "      <td>1974</td>\n",
       "      <td>R</td>\n",
       "      <td>Crime</td>\n",
       "      <td>202</td>\n",
       "      <td>134966411</td>\n",
       "      <td>97.0</td>\n",
       "    </tr>\n",
       "    <tr>\n",
       "      <th>4</th>\n",
       "      <td>8.9</td>\n",
       "      <td>Pulp Fiction</td>\n",
       "      <td>1994</td>\n",
       "      <td>R</td>\n",
       "      <td>Crime</td>\n",
       "      <td>154</td>\n",
       "      <td>1935047</td>\n",
       "      <td>94.0</td>\n",
       "    </tr>\n",
       "    <tr>\n",
       "      <th>5</th>\n",
       "      <td>8.9</td>\n",
       "      <td>Schindler's List</td>\n",
       "      <td>1993</td>\n",
       "      <td>R</td>\n",
       "      <td>Biography</td>\n",
       "      <td>195</td>\n",
       "      <td>534858444</td>\n",
       "      <td>97.0</td>\n",
       "    </tr>\n",
       "  </tbody>\n",
       "</table>\n",
       "</div>"
      ],
      "text/plain": [
       "   star_rating                     title  year content_rating  \\\n",
       "0          9.3  The Shawshank Redemption  1994              R   \n",
       "1          9.2             The Godfather  1972              R   \n",
       "3          9.0    The Godfather: Part II  1974              R   \n",
       "4          8.9              Pulp Fiction  1994              R   \n",
       "5          8.9          Schindler's List  1993              R   \n",
       "\n",
       "               genre  duration      gross  rotten_rating  \n",
       "0  Drama                   142    1963330           91.0  \n",
       "1              Crime       175   28341469           98.0  \n",
       "3              Crime       202  134966411           97.0  \n",
       "4              Crime       154    1935047           94.0  \n",
       "5          Biography       195  534858444           97.0  "
      ]
     },
     "execution_count": 24,
     "metadata": {},
     "output_type": "execute_result"
    }
   ],
   "source": [
    "movies[movies.content_rating == 'R'].sort_values(by='star_rating', ascending=False).head()"
   ]
  },
  {
   "cell_type": "code",
   "execution_count": null,
   "metadata": {},
   "outputs": [],
   "source": []
  },
  {
   "cell_type": "markdown",
   "metadata": {},
   "source": [
    "What is the average Rotten Tomato score for the top 100 IMDB films?"
   ]
  },
  {
   "cell_type": "code",
   "execution_count": 25,
   "metadata": {},
   "outputs": [
    {
     "data": {
      "text/plain": [
       "91.40860215053763"
      ]
     },
     "execution_count": 25,
     "metadata": {},
     "output_type": "execute_result"
    }
   ],
   "source": [
    "movies.rotten_rating.mean()"
   ]
  },
  {
   "cell_type": "code",
   "execution_count": null,
   "metadata": {},
   "outputs": [],
   "source": []
  },
  {
   "cell_type": "markdown",
   "metadata": {},
   "source": [
    "What is the Five Number Summary like for top rated films as per IMDB? Is it skewed?"
   ]
  },
  {
   "cell_type": "code",
   "execution_count": 26,
   "metadata": {},
   "outputs": [
    {
     "data": {
      "text/plain": [
       "count    100.000000\n",
       "mean       8.524000\n",
       "std        0.207009\n",
       "min        8.300000\n",
       "25%        8.400000\n",
       "50%        8.500000\n",
       "75%        8.600000\n",
       "max        9.300000\n",
       "Name: star_rating, dtype: float64"
      ]
     },
     "execution_count": 26,
     "metadata": {},
     "output_type": "execute_result"
    }
   ],
   "source": [
    "movies.star_rating.describe()"
   ]
  },
  {
   "cell_type": "markdown",
   "metadata": {},
   "source": [
    "The average is *slightly* higher than the median, so there's a small positive skew."
   ]
  },
  {
   "cell_type": "code",
   "execution_count": null,
   "metadata": {},
   "outputs": [],
   "source": []
  },
  {
   "cell_type": "markdown",
   "metadata": {},
   "source": [
    "Create your own question...then answer it!"
   ]
  },
  {
   "cell_type": "code",
   "execution_count": 27,
   "metadata": {},
   "outputs": [
    {
     "data": {
      "text/html": [
       "<div>\n",
       "<style scoped>\n",
       "    .dataframe tbody tr th:only-of-type {\n",
       "        vertical-align: middle;\n",
       "    }\n",
       "\n",
       "    .dataframe tbody tr th {\n",
       "        vertical-align: top;\n",
       "    }\n",
       "\n",
       "    .dataframe thead th {\n",
       "        text-align: right;\n",
       "    }\n",
       "</style>\n",
       "<table border=\"1\" class=\"dataframe\">\n",
       "  <thead>\n",
       "    <tr style=\"text-align: right;\">\n",
       "      <th></th>\n",
       "      <th>star_rating</th>\n",
       "      <th>year</th>\n",
       "      <th>duration</th>\n",
       "      <th>gross</th>\n",
       "      <th>rotten_rating</th>\n",
       "    </tr>\n",
       "  </thead>\n",
       "  <tbody>\n",
       "    <tr>\n",
       "      <th>star_rating</th>\n",
       "      <td>1.000000</td>\n",
       "      <td>0.009537</td>\n",
       "      <td>0.348841</td>\n",
       "      <td>0.136235</td>\n",
       "      <td>0.041449</td>\n",
       "    </tr>\n",
       "    <tr>\n",
       "      <th>year</th>\n",
       "      <td>0.009537</td>\n",
       "      <td>1.000000</td>\n",
       "      <td>0.107081</td>\n",
       "      <td>0.015215</td>\n",
       "      <td>-0.100059</td>\n",
       "    </tr>\n",
       "    <tr>\n",
       "      <th>duration</th>\n",
       "      <td>0.348841</td>\n",
       "      <td>0.107081</td>\n",
       "      <td>1.000000</td>\n",
       "      <td>0.112082</td>\n",
       "      <td>-0.161066</td>\n",
       "    </tr>\n",
       "    <tr>\n",
       "      <th>gross</th>\n",
       "      <td>0.136235</td>\n",
       "      <td>0.015215</td>\n",
       "      <td>0.112082</td>\n",
       "      <td>1.000000</td>\n",
       "      <td>-0.045481</td>\n",
       "    </tr>\n",
       "    <tr>\n",
       "      <th>rotten_rating</th>\n",
       "      <td>0.041449</td>\n",
       "      <td>-0.100059</td>\n",
       "      <td>-0.161066</td>\n",
       "      <td>-0.045481</td>\n",
       "      <td>1.000000</td>\n",
       "    </tr>\n",
       "  </tbody>\n",
       "</table>\n",
       "</div>"
      ],
      "text/plain": [
       "               star_rating      year  duration     gross  rotten_rating\n",
       "star_rating       1.000000  0.009537  0.348841  0.136235       0.041449\n",
       "year              0.009537  1.000000  0.107081  0.015215      -0.100059\n",
       "duration          0.348841  0.107081  1.000000  0.112082      -0.161066\n",
       "gross             0.136235  0.015215  0.112082  1.000000      -0.045481\n",
       "rotten_rating     0.041449 -0.100059 -0.161066 -0.045481       1.000000"
      ]
     },
     "execution_count": 27,
     "metadata": {},
     "output_type": "execute_result"
    }
   ],
   "source": [
    "# correlation between star rating and Rotten Tomato rating?\n",
    "movies.corr()"
   ]
  },
  {
   "cell_type": "code",
   "execution_count": null,
   "metadata": {},
   "outputs": [],
   "source": []
  },
  {
   "cell_type": "code",
   "execution_count": null,
   "metadata": {},
   "outputs": [],
   "source": []
  },
  {
   "cell_type": "code",
   "execution_count": null,
   "metadata": {},
   "outputs": [],
   "source": []
  },
  {
   "cell_type": "markdown",
   "metadata": {},
   "source": [
    "**Challenge:** Create a column that is the ratio between Rotten Tomato rating vs IMDB rating. What film has the highest IMDB : Rotten Tomato ratio? The lowest?\n",
    "\n",
    "*[skip this if you are low on time]*"
   ]
  },
  {
   "cell_type": "code",
   "execution_count": 28,
   "metadata": {},
   "outputs": [],
   "source": [
    "movies['imdb_rotten_ratio'] = movies.star_rating / movies.rotten_rating"
   ]
  },
  {
   "cell_type": "code",
   "execution_count": 29,
   "metadata": {},
   "outputs": [
    {
     "data": {
      "text/html": [
       "<div>\n",
       "<style scoped>\n",
       "    .dataframe tbody tr th:only-of-type {\n",
       "        vertical-align: middle;\n",
       "    }\n",
       "\n",
       "    .dataframe tbody tr th {\n",
       "        vertical-align: top;\n",
       "    }\n",
       "\n",
       "    .dataframe thead th {\n",
       "        text-align: right;\n",
       "    }\n",
       "</style>\n",
       "<table border=\"1\" class=\"dataframe\">\n",
       "  <thead>\n",
       "    <tr style=\"text-align: right;\">\n",
       "      <th></th>\n",
       "      <th>star_rating</th>\n",
       "      <th>title</th>\n",
       "      <th>year</th>\n",
       "      <th>content_rating</th>\n",
       "      <th>genre</th>\n",
       "      <th>duration</th>\n",
       "      <th>gross</th>\n",
       "      <th>rotten_rating</th>\n",
       "      <th>imdb_rotten_ratio</th>\n",
       "    </tr>\n",
       "  </thead>\n",
       "  <tbody>\n",
       "    <tr>\n",
       "      <th>12</th>\n",
       "      <td>8.8</td>\n",
       "      <td>Forrest Gump</td>\n",
       "      <td>1994</td>\n",
       "      <td>PG-13</td>\n",
       "      <td>Drama</td>\n",
       "      <td>142</td>\n",
       "      <td>1401164</td>\n",
       "      <td>72.0</td>\n",
       "      <td>0.122222</td>\n",
       "    </tr>\n",
       "  </tbody>\n",
       "</table>\n",
       "</div>"
      ],
      "text/plain": [
       "    star_rating         title  year content_rating  genre  duration    gross  \\\n",
       "12          8.8  Forrest Gump  1994          PG-13  Drama       142  1401164   \n",
       "\n",
       "    rotten_rating  imdb_rotten_ratio  \n",
       "12           72.0           0.122222  "
      ]
     },
     "execution_count": 29,
     "metadata": {},
     "output_type": "execute_result"
    }
   ],
   "source": [
    "movies.sort_values('imdb_rotten_ratio', ascending=False).head(1)"
   ]
  },
  {
   "cell_type": "markdown",
   "metadata": {},
   "source": [
    "On average, IMDB viewers liked Interstellar an outsized amount more than Rotten Tomato reviewers."
   ]
  },
  {
   "cell_type": "code",
   "execution_count": 30,
   "metadata": {},
   "outputs": [
    {
     "data": {
      "text/html": [
       "<div>\n",
       "<style scoped>\n",
       "    .dataframe tbody tr th:only-of-type {\n",
       "        vertical-align: middle;\n",
       "    }\n",
       "\n",
       "    .dataframe tbody tr th {\n",
       "        vertical-align: top;\n",
       "    }\n",
       "\n",
       "    .dataframe thead th {\n",
       "        text-align: right;\n",
       "    }\n",
       "</style>\n",
       "<table border=\"1\" class=\"dataframe\">\n",
       "  <thead>\n",
       "    <tr style=\"text-align: right;\">\n",
       "      <th></th>\n",
       "      <th>star_rating</th>\n",
       "      <th>title</th>\n",
       "      <th>year</th>\n",
       "      <th>content_rating</th>\n",
       "      <th>genre</th>\n",
       "      <th>duration</th>\n",
       "      <th>gross</th>\n",
       "      <th>rotten_rating</th>\n",
       "      <th>imdb_rotten_ratio</th>\n",
       "    </tr>\n",
       "  </thead>\n",
       "  <tbody>\n",
       "    <tr>\n",
       "      <th>82</th>\n",
       "      <td>8.3</td>\n",
       "      <td>Toy Story</td>\n",
       "      <td>1995</td>\n",
       "      <td>R</td>\n",
       "      <td>Animation</td>\n",
       "      <td>81</td>\n",
       "      <td>83471511</td>\n",
       "      <td>100.0</td>\n",
       "      <td>0.083</td>\n",
       "    </tr>\n",
       "  </tbody>\n",
       "</table>\n",
       "</div>"
      ],
      "text/plain": [
       "    star_rating      title  year content_rating      genre  duration  \\\n",
       "82          8.3  Toy Story  1995              R  Animation        81   \n",
       "\n",
       "       gross  rotten_rating  imdb_rotten_ratio  \n",
       "82  83471511          100.0              0.083  "
      ]
     },
     "execution_count": 30,
     "metadata": {},
     "output_type": "execute_result"
    }
   ],
   "source": [
    "movies.sort_values('imdb_rotten_ratio', ascending=True).head(1)"
   ]
  },
  {
   "cell_type": "markdown",
   "metadata": {},
   "source": [
    "On average, Rotten Tomato reviewers liked Interstellar an outsized amount more than IMDB reviewers."
   ]
  },
  {
   "cell_type": "markdown",
   "metadata": {},
   "source": [
    "## Exploratory data analysis with visualizations\n",
    "\n",
    "For each of these prompts, create a plot to visualize the answer. Consider what plot is *most appropriate* to explore the given prompt.\n"
   ]
  },
  {
   "cell_type": "markdown",
   "metadata": {},
   "source": [
    "What is the relationship between IMDB ratings and Rotten Tomato ratings?"
   ]
  },
  {
   "cell_type": "code",
   "execution_count": 31,
   "metadata": {},
   "outputs": [
    {
     "data": {
      "text/plain": [
       "<matplotlib.axes._subplots.AxesSubplot at 0x10f4f3828>"
      ]
     },
     "execution_count": 31,
     "metadata": {},
     "output_type": "execute_result"
    },
    {
     "data": {
      "image/png": "[encoded data removed]",
      "text/plain": [
       "<matplotlib.figure.Figure at 0x10f4f37f0>"
      ]
     },
     "metadata": {},
     "output_type": "display_data"
    }
   ],
   "source": [
    "movies.plot(kind='scatter', x='rotten_rating', y='star_rating')"
   ]
  },
  {
   "cell_type": "code",
   "execution_count": null,
   "metadata": {},
   "outputs": [],
   "source": []
  },
  {
   "cell_type": "markdown",
   "metadata": {},
   "source": [
    "What is the relationship between IMDB rating and movie duration?"
   ]
  },
  {
   "cell_type": "code",
   "execution_count": 32,
   "metadata": {},
   "outputs": [
    {
     "data": {
      "text/plain": [
       "<matplotlib.axes._subplots.AxesSubplot at 0x10f191390>"
      ]
     },
     "execution_count": 32,
     "metadata": {},
     "output_type": "execute_result"
    },
    {
     "data": {
      "image/png": "[encoded data removed]",
      "text/plain": [
       "<matplotlib.figure.Figure at 0x10f5df4e0>"
      ]
     },
     "metadata": {},
     "output_type": "display_data"
    }
   ],
   "source": [
    "movies.plot(kind='scatter', x='duration', y='star_rating')"
   ]
  },
  {
   "cell_type": "code",
   "execution_count": null,
   "metadata": {},
   "outputs": [],
   "source": []
  },
  {
   "cell_type": "markdown",
   "metadata": {},
   "source": [
    "How many movies are there in each genre category? (Remember to create a plot here)"
   ]
  },
  {
   "cell_type": "code",
   "execution_count": 33,
   "metadata": {},
   "outputs": [
    {
     "data": {
      "text/plain": [
       "<matplotlib.axes._subplots.AxesSubplot at 0x10f5a7438>"
      ]
     },
     "execution_count": 33,
     "metadata": {},
     "output_type": "execute_result"
    },
    {
     "data": {
      "image/png": "[encoded data removed]",
      "text/plain": [
       "<matplotlib.figure.Figure at 0x10f599c50>"
      ]
     },
     "metadata": {},
     "output_type": "display_data"
    }
   ],
   "source": [
    "movies['genre'].value_counts().plot(kind='bar', color='dodgerblue')"
   ]
  },
  {
   "cell_type": "code",
   "execution_count": null,
   "metadata": {},
   "outputs": [],
   "source": []
  },
  {
   "cell_type": "markdown",
   "metadata": {},
   "source": [
    "What does the distribution of Rotten Tomato ratings look like?"
   ]
  },
  {
   "cell_type": "code",
   "execution_count": 34,
   "metadata": {},
   "outputs": [
    {
     "data": {
      "text/plain": [
       "<matplotlib.axes._subplots.AxesSubplot at 0x118d839b0>"
      ]
     },
     "execution_count": 34,
     "metadata": {},
     "output_type": "execute_result"
    },
    {
     "data": {
      "image/png": "[encoded data removed]",
      "text/plain": [
       "<matplotlib.figure.Figure at 0x118e4a0f0>"
      ]
     },
     "metadata": {},
     "output_type": "display_data"
    }
   ],
   "source": [
    "movies.rotten_rating.plot(kind='hist', bins=15)"
   ]
  },
  {
   "cell_type": "code",
   "execution_count": null,
   "metadata": {},
   "outputs": [],
   "source": []
  },
  {
   "cell_type": "markdown",
   "metadata": {},
   "source": [
    "## Bonus\n",
    "\n",
    "There are many things left unexplored! Consider investigating something about gross revenue and genres."
   ]
  },
  {
   "cell_type": "code",
   "execution_count": 35,
   "metadata": {},
   "outputs": [
    {
     "data": {
      "text/plain": [
       "<matplotlib.axes._subplots.AxesSubplot at 0x118f30eb8>"
      ]
     },
     "execution_count": 35,
     "metadata": {},
     "output_type": "execute_result"
    },
    {
     "data": {
      "image/png": "[encoded data removed]",
      "text/plain": [
       "<matplotlib.figure.Figure at 0x118d34550>"
      ]
     },
     "metadata": {},
     "output_type": "display_data"
    }
   ],
   "source": [
    "movies.gross.plot(kind='hist', bins=15, color='dodgerblue')"
   ]
  },
  {
   "cell_type": "code",
   "execution_count": 36,
   "metadata": {},
   "outputs": [
    {
     "data": {
      "text/html": [
       "<div>\n",
       "<style scoped>\n",
       "    .dataframe tbody tr th:only-of-type {\n",
       "        vertical-align: middle;\n",
       "    }\n",
       "\n",
       "    .dataframe tbody tr th {\n",
       "        vertical-align: top;\n",
       "    }\n",
       "\n",
       "    .dataframe thead th {\n",
       "        text-align: right;\n",
       "    }\n",
       "</style>\n",
       "<table border=\"1\" class=\"dataframe\">\n",
       "  <thead>\n",
       "    <tr style=\"text-align: right;\">\n",
       "      <th></th>\n",
       "      <th>star_rating</th>\n",
       "      <th>title</th>\n",
       "      <th>year</th>\n",
       "      <th>content_rating</th>\n",
       "      <th>genre</th>\n",
       "      <th>duration</th>\n",
       "      <th>gross</th>\n",
       "      <th>rotten_rating</th>\n",
       "      <th>imdb_rotten_ratio</th>\n",
       "    </tr>\n",
       "  </thead>\n",
       "  <tbody>\n",
       "    <tr>\n",
       "      <th>18</th>\n",
       "      <td>8.7</td>\n",
       "      <td>One Flew Over the Cuckoo's Nest</td>\n",
       "      <td>1975</td>\n",
       "      <td>R</td>\n",
       "      <td>Drama</td>\n",
       "      <td>133</td>\n",
       "      <td>665845272</td>\n",
       "      <td>94.0</td>\n",
       "      <td>0.092553</td>\n",
       "    </tr>\n",
       "    <tr>\n",
       "      <th>5</th>\n",
       "      <td>8.9</td>\n",
       "      <td>Schindler's List</td>\n",
       "      <td>1993</td>\n",
       "      <td>R</td>\n",
       "      <td>Biography</td>\n",
       "      <td>195</td>\n",
       "      <td>534858444</td>\n",
       "      <td>97.0</td>\n",
       "      <td>0.091753</td>\n",
       "    </tr>\n",
       "    <tr>\n",
       "      <th>13</th>\n",
       "      <td>8.8</td>\n",
       "      <td>Fight Club</td>\n",
       "      <td>1999</td>\n",
       "      <td>R</td>\n",
       "      <td>Drama</td>\n",
       "      <td>139</td>\n",
       "      <td>377845905</td>\n",
       "      <td>79.0</td>\n",
       "      <td>0.111392</td>\n",
       "    </tr>\n",
       "    <tr>\n",
       "      <th>34</th>\n",
       "      <td>8.5</td>\n",
       "      <td>The Lion King</td>\n",
       "      <td>1994</td>\n",
       "      <td>G</td>\n",
       "      <td>Animation</td>\n",
       "      <td>88</td>\n",
       "      <td>342551365</td>\n",
       "      <td>93.0</td>\n",
       "      <td>0.091398</td>\n",
       "    </tr>\n",
       "    <tr>\n",
       "      <th>24</th>\n",
       "      <td>8.6</td>\n",
       "      <td>Star Wars: Episode IV - A New Hope</td>\n",
       "      <td>1977</td>\n",
       "      <td>PG</td>\n",
       "      <td>Action</td>\n",
       "      <td>121</td>\n",
       "      <td>330252182</td>\n",
       "      <td>93.0</td>\n",
       "      <td>0.092473</td>\n",
       "    </tr>\n",
       "    <tr>\n",
       "      <th>48</th>\n",
       "      <td>8.5</td>\n",
       "      <td>Once Upon a Time in the West</td>\n",
       "      <td>1968</td>\n",
       "      <td>PG-13</td>\n",
       "      <td>Western</td>\n",
       "      <td>164</td>\n",
       "      <td>322740140</td>\n",
       "      <td>98.0</td>\n",
       "      <td>0.086735</td>\n",
       "    </tr>\n",
       "    <tr>\n",
       "      <th>20</th>\n",
       "      <td>8.6</td>\n",
       "      <td>Interstellar</td>\n",
       "      <td>2014</td>\n",
       "      <td>PG-13</td>\n",
       "      <td>Adventure</td>\n",
       "      <td>169</td>\n",
       "      <td>315544750</td>\n",
       "      <td>71.0</td>\n",
       "      <td>0.121127</td>\n",
       "    </tr>\n",
       "    <tr>\n",
       "      <th>68</th>\n",
       "      <td>8.4</td>\n",
       "      <td>Once Upon a Time in America</td>\n",
       "      <td>1984</td>\n",
       "      <td>R</td>\n",
       "      <td>Crime</td>\n",
       "      <td>229</td>\n",
       "      <td>312900000</td>\n",
       "      <td>86.0</td>\n",
       "      <td>0.097674</td>\n",
       "    </tr>\n",
       "    <tr>\n",
       "      <th>22</th>\n",
       "      <td>8.6</td>\n",
       "      <td>Lon: The Professional</td>\n",
       "      <td>1994</td>\n",
       "      <td>R</td>\n",
       "      <td>Crime</td>\n",
       "      <td>110</td>\n",
       "      <td>292576195</td>\n",
       "      <td>NaN</td>\n",
       "      <td>NaN</td>\n",
       "    </tr>\n",
       "    <tr>\n",
       "      <th>28</th>\n",
       "      <td>8.6</td>\n",
       "      <td>City of God</td>\n",
       "      <td>2002</td>\n",
       "      <td>R</td>\n",
       "      <td>Crime</td>\n",
       "      <td>130</td>\n",
       "      <td>290475067</td>\n",
       "      <td>91.0</td>\n",
       "      <td>0.094505</td>\n",
       "    </tr>\n",
       "  </tbody>\n",
       "</table>\n",
       "</div>"
      ],
      "text/plain": [
       "    star_rating                               title  year content_rating  \\\n",
       "18          8.7     One Flew Over the Cuckoo's Nest  1975              R   \n",
       "5           8.9                    Schindler's List  1993              R   \n",
       "13          8.8                          Fight Club  1999              R   \n",
       "34          8.5                       The Lion King  1994              G   \n",
       "24          8.6  Star Wars: Episode IV - A New Hope  1977             PG   \n",
       "48          8.5        Once Upon a Time in the West  1968          PG-13   \n",
       "20          8.6                        Interstellar  2014          PG-13   \n",
       "68          8.4         Once Upon a Time in America  1984              R   \n",
       "22          8.6              Lon: The Professional  1994              R   \n",
       "28          8.6                         City of God  2002              R   \n",
       "\n",
       "                  genre  duration      gross  rotten_rating  imdb_rotten_ratio  \n",
       "18    Drama                   133  665845272           94.0           0.092553  \n",
       "5             Biography       195  534858444           97.0           0.091753  \n",
       "13    Drama                   139  377845905           79.0           0.111392  \n",
       "34            Animation        88  342551365           93.0           0.091398  \n",
       "24               Action       121  330252182           93.0           0.092473  \n",
       "48  Western                   164  322740140           98.0           0.086735  \n",
       "20            Adventure       169  315544750           71.0           0.121127  \n",
       "68                Crime       229  312900000           86.0           0.097674  \n",
       "22                Crime       110  292576195            NaN                NaN  \n",
       "28                Crime       130  290475067           91.0           0.094505  "
      ]
     },
     "execution_count": 36,
     "metadata": {},
     "output_type": "execute_result"
    }
   ],
   "source": [
    "# top 10 grossing films\n",
    "movies.sort_values(by='gross', ascending=False).head(10)"
   ]
  },
  {
   "cell_type": "code",
   "execution_count": 37,
   "metadata": {},
   "outputs": [
    {
     "data": {
      "text/html": [
       "<div>\n",
       "<style scoped>\n",
       "    .dataframe tbody tr th:only-of-type {\n",
       "        vertical-align: middle;\n",
       "    }\n",
       "\n",
       "    .dataframe tbody tr th {\n",
       "        vertical-align: top;\n",
       "    }\n",
       "\n",
       "    .dataframe thead th {\n",
       "        text-align: right;\n",
       "    }\n",
       "</style>\n",
       "<table border=\"1\" class=\"dataframe\">\n",
       "  <thead>\n",
       "    <tr style=\"text-align: right;\">\n",
       "      <th></th>\n",
       "      <th>star_rating</th>\n",
       "      <th>year</th>\n",
       "      <th>duration</th>\n",
       "      <th>gross</th>\n",
       "      <th>rotten_rating</th>\n",
       "      <th>imdb_rotten_ratio</th>\n",
       "    </tr>\n",
       "  </thead>\n",
       "  <tbody>\n",
       "    <tr>\n",
       "      <th>star_rating</th>\n",
       "      <td>1.000000</td>\n",
       "      <td>0.009537</td>\n",
       "      <td>0.348841</td>\n",
       "      <td>0.136235</td>\n",
       "      <td>0.041449</td>\n",
       "      <td>0.224895</td>\n",
       "    </tr>\n",
       "    <tr>\n",
       "      <th>year</th>\n",
       "      <td>0.009537</td>\n",
       "      <td>1.000000</td>\n",
       "      <td>0.107081</td>\n",
       "      <td>0.015215</td>\n",
       "      <td>-0.100059</td>\n",
       "      <td>0.096528</td>\n",
       "    </tr>\n",
       "    <tr>\n",
       "      <th>duration</th>\n",
       "      <td>0.348841</td>\n",
       "      <td>0.107081</td>\n",
       "      <td>1.000000</td>\n",
       "      <td>0.112082</td>\n",
       "      <td>-0.161066</td>\n",
       "      <td>0.233550</td>\n",
       "    </tr>\n",
       "    <tr>\n",
       "      <th>gross</th>\n",
       "      <td>0.136235</td>\n",
       "      <td>0.015215</td>\n",
       "      <td>0.112082</td>\n",
       "      <td>1.000000</td>\n",
       "      <td>-0.045481</td>\n",
       "      <td>0.078865</td>\n",
       "    </tr>\n",
       "    <tr>\n",
       "      <th>rotten_rating</th>\n",
       "      <td>0.041449</td>\n",
       "      <td>-0.100059</td>\n",
       "      <td>-0.161066</td>\n",
       "      <td>-0.045481</td>\n",
       "      <td>1.000000</td>\n",
       "      <td>-0.959381</td>\n",
       "    </tr>\n",
       "    <tr>\n",
       "      <th>imdb_rotten_ratio</th>\n",
       "      <td>0.224895</td>\n",
       "      <td>0.096528</td>\n",
       "      <td>0.233550</td>\n",
       "      <td>0.078865</td>\n",
       "      <td>-0.959381</td>\n",
       "      <td>1.000000</td>\n",
       "    </tr>\n",
       "  </tbody>\n",
       "</table>\n",
       "</div>"
      ],
      "text/plain": [
       "                   star_rating      year  duration     gross  rotten_rating  \\\n",
       "star_rating           1.000000  0.009537  0.348841  0.136235       0.041449   \n",
       "year                  0.009537  1.000000  0.107081  0.015215      -0.100059   \n",
       "duration              0.348841  0.107081  1.000000  0.112082      -0.161066   \n",
       "gross                 0.136235  0.015215  0.112082  1.000000      -0.045481   \n",
       "rotten_rating         0.041449 -0.100059 -0.161066 -0.045481       1.000000   \n",
       "imdb_rotten_ratio     0.224895  0.096528  0.233550  0.078865      -0.959381   \n",
       "\n",
       "                   imdb_rotten_ratio  \n",
       "star_rating                 0.224895  \n",
       "year                        0.096528  \n",
       "duration                    0.233550  \n",
       "gross                       0.078865  \n",
       "rotten_rating              -0.959381  \n",
       "imdb_rotten_ratio           1.000000  "
      ]
     },
     "execution_count": 37,
     "metadata": {},
     "output_type": "execute_result"
    }
   ],
   "source": [
    "# correlation between star rating and gross value? (little, negative for Rotten)\n",
    "movies.corr()"
   ]
  },
  {
   "cell_type": "code",
   "execution_count": null,
   "metadata": {},
   "outputs": [],
   "source": []
  },
  {
   "cell_type": "code",
   "execution_count": null,
   "metadata": {},
   "outputs": [],
   "source": []
  }
 ],
 "metadata": {
  "kernelspec": {
   "display_name": "Python 3",
   "language": "python",
   "name": "python3"
  },
  "language_info": {
   "codemirror_mode": {
    "name": "ipython",
    "version": 3
   },
   "file_extension": ".py",
   "mimetype": "text/x-python",
   "name": "python",
   "nbconvert_exporter": "python",
   "pygments_lexer": "ipython3",
   "version": "3.6.4"
  }
 },
 "nbformat": 4,
 "nbformat_minor": 2
}
